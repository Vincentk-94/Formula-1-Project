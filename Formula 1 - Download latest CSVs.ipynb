{
 "cells": [
  {
   "cell_type": "code",
   "execution_count": 2,
   "id": "7adbfcce",
   "metadata": {},
   "outputs": [],
   "source": [
    "# importing libraries\n",
    "import zipfile\n",
    "from urllib.request import urlopen\n",
    "import shutil\n",
    "import os"
   ]
  },
  {
   "cell_type": "code",
   "execution_count": 3,
   "id": "abb0a20e",
   "metadata": {},
   "outputs": [],
   "source": [
    "# Run to update the csvs with the latest race data\n",
    "\n",
    "url = 'http://ergast.com/downloads/f1db_csv.zip'\n",
    "file_name = 'f1db_csv.zip'\n",
    "\n",
    "# extracting zipfile from URL\n",
    "with urlopen(url) as response, open(file_name, 'wb') as out_file:\n",
    "    shutil.copyfileobj(response, out_file)\n",
    "\n",
    "# list of files to extract:\n",
    "files =['circuits.csv',\n",
    "        'constructor_results.csv',\n",
    "        'constructor_standings.csv',\n",
    "        'constructors.csv',\n",
    "        'driver_standings.csv',\n",
    "        'drivers.csv',\n",
    "        'lap_times.csv',\n",
    "        'pit_stops.csv',\n",
    "        'qualifying.csv',\n",
    "        'races.csv',\n",
    "        'results.csv',\n",
    "        'seasons.csv',\n",
    "        'sprint_results.csv',\n",
    "        'status.csv'        \n",
    "       ]\n",
    "\n",
    "# extracting required file from zipfile\n",
    "with zipfile.ZipFile(file_name) as zf:\n",
    "    for csv in files:\n",
    "         zf.extract(csv)\n",
    "\n",
    "# deleting the zipfile from the directory\n",
    "os.remove(file_name)"
   ]
  },
  {
   "cell_type": "code",
   "execution_count": 5,
   "id": "2a755f05",
   "metadata": {},
   "outputs": [],
   "source": [
    "source = r\"D:\\vince\\Documents\\Coding\\Tableau\\Formula 1\"\n",
    "destination = r\"D:\\vince\\Documents\\Coding\\Tableau\\Formula 1\\Datasets\"\n",
    "\n",
    "allfiles = os.listdir(source)\n",
    "\n",
    "for f in allfiles:\n",
    "    if f in files:\n",
    "        shutil.move(source+ r\"\\\\\" + f, destination)"
   ]
  },
  {
   "cell_type": "code",
   "execution_count": null,
   "id": "80180bac",
   "metadata": {},
   "outputs": [],
   "source": []
  }
 ],
 "metadata": {
  "kernelspec": {
   "display_name": "Python 3 (ipykernel)",
   "language": "python",
   "name": "python3"
  },
  "language_info": {
   "codemirror_mode": {
    "name": "ipython",
    "version": 3
   },
   "file_extension": ".py",
   "mimetype": "text/x-python",
   "name": "python",
   "nbconvert_exporter": "python",
   "pygments_lexer": "ipython3",
   "version": "3.9.7"
  }
 },
 "nbformat": 4,
 "nbformat_minor": 5
}
